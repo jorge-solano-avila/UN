{
 "cells": [
  {
   "cell_type": "code",
   "execution_count": 1,
   "metadata": {
    "collapsed": false
   },
   "outputs": [],
   "source": [
    "import itertools\n",
    "import statistics\n",
    "import numpy as np\n",
    "import matplotlib.pyplot as plt\n",
    "%matplotlib inline"
   ]
  },
  {
   "cell_type": "code",
   "execution_count": 2,
   "metadata": {
    "collapsed": true
   },
   "outputs": [],
   "source": [
    "def quickSort( alist, times ):\n",
    "    comp = [0]\n",
    "    quickSortHelper( alist, 0, len( alist ) - 1, comp )\n",
    "    times.append( comp[0] )"
   ]
  },
  {
   "cell_type": "code",
   "execution_count": 3,
   "metadata": {
    "collapsed": true
   },
   "outputs": [],
   "source": [
    "def quickSortHelper( alist, first, last, comp ):\n",
    "    if first < last:\n",
    "        r = partition( alist, first, last )\n",
    "        splitpoint = r[0]\n",
    "        tmp = comp.pop()\n",
    "        comp.append( tmp + r[1] )\n",
    "    \n",
    "        quickSortHelper( alist, first, splitpoint - 1, comp )\n",
    "        quickSortHelper( alist, splitpoint + 1, last, comp )"
   ]
  },
  {
   "cell_type": "code",
   "execution_count": 4,
   "metadata": {
    "collapsed": true
   },
   "outputs": [],
   "source": [
    "def partition( alist, first, last ):\n",
    "    pivotvalue = alist[first]\n",
    "    compspart = 0\n",
    "\n",
    "    leftmark = first + 1\n",
    "    rightmark = last\n",
    "\n",
    "    done = False\n",
    "    while not done:\n",
    "        while leftmark <= rightmark and alist[leftmark] <= pivotvalue:\n",
    "            leftmark = leftmark + 1\n",
    "            compspart += 1\n",
    "\n",
    "        while alist[rightmark] >= pivotvalue and rightmark >= leftmark:\n",
    "            rightmark = rightmark - 1\n",
    "            compspart += 1\n",
    "\n",
    "        if rightmark < leftmark:\n",
    "            done = True\n",
    "        else:\n",
    "            temp = alist[leftmark]\n",
    "            alist[leftmark] = alist[rightmark]\n",
    "            alist[rightmark] = temp\n",
    "\n",
    "    temp = alist[first]\n",
    "    alist[first] = alist[rightmark]\n",
    "    alist[rightmark] = temp\n",
    "\n",
    "    return rightmark, compspart"
   ]
  },
  {
   "cell_type": "code",
   "execution_count": 5,
   "metadata": {
    "collapsed": true
   },
   "outputs": [],
   "source": [
    "def quickSortTimeDistrib( k ):\n",
    "    \n",
    "    # Create an array of n elements\n",
    "    n = k\n",
    "    x = []\n",
    "    for i in range( 1, n + 1 ):\n",
    "        x.append( n + 1 - i )\n",
    "    print( range( 1, k + 1 ) )\n",
    "    \n",
    "     # Run quicksort for each permutation\n",
    "    tlist =[]\n",
    "    for p in itertools.permutations( range( 1, k + 1 ) ):\n",
    "        quickSort( np.asarray( p ), tlist )\n",
    "    \n",
    "    #print tlist\n",
    "    plt.hist( tlist )\n",
    "    plt.title( \"Number of comparison of Quicksort for all permutaions\" )\n",
    "    plt.xlabel( \"Comparisons of elements\" )\n",
    "    plt.ylabel( \"Frequency\" )\n",
    "    plt.show()\n",
    "    \n",
    "    print( \"n\", n )\n",
    "    print( \"mean\", statistics.mean( tlist ) )\n",
    "    print( \"median\", statistics.median( tlist ) )\n",
    "    print( \"stdev\", statistics.stdev( tlist ) )\n",
    "    print( \"min\", min( tlist ) )\n",
    "    print( \"max\", max( tlist ) )"
   ]
  },
  {
   "cell_type": "code",
   "execution_count": 6,
   "metadata": {
    "collapsed": false
   },
   "outputs": [
    {
     "name": "stdout",
     "output_type": "stream",
     "text": [
      "[1, 2, 3, 4, 5, 6, 7, 8]\n"
     ]
    },
    {
     "data": {
      "image/png": "[encoded data removed]",
      "text/plain": [
       "<matplotlib.figure.Figure at 0x7f32b6f042d0>"
      ]
     },
     "metadata": {},
     "output_type": "display_data"
    },
    {
     "name": "stdout",
     "output_type": "stream",
     "text": [
      "('n', 8)\n",
      "('mean', 16.92142857142857)\n",
      "('median', 16.0)\n",
      "('stdev', 2.862521572941692)\n",
      "('min', 13)\n",
      "('max', 28)\n"
     ]
    }
   ],
   "source": [
    "quickSortTimeDistrib( 8 )"
   ]
  },
  {
   "cell_type": "code",
   "execution_count": null,
   "metadata": {
    "collapsed": true
   },
   "outputs": [],
   "source": []
  }
 ],
 "metadata": {
  "kernelspec": {
   "display_name": "Python 2",
   "language": "python",
   "name": "python2"
  },
  "language_info": {
   "codemirror_mode": {
    "name": "ipython",
    "version": 2
   },
   "file_extension": ".py",
   "mimetype": "text/x-python",
   "name": "python",
   "nbconvert_exporter": "python",
   "pygments_lexer": "ipython2",
   "version": "2.7.9"
  }
 },
 "nbformat": 4,
 "nbformat_minor": 0
}
