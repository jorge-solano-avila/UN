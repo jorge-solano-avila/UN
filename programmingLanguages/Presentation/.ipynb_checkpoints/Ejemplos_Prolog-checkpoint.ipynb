{
 "cells": [
  {
   "cell_type": "markdown",
   "metadata": {},
   "source": [
    "# Ejemplos de Programación Lógica en Prolog\n",
    "\n",
    "En este notebook se da una guía práctica de la programación lógica en el lenguaje de programación Prolog.\n",
    "\n",
    "Los siguientes son los ejemplos mostrados en las presentación en clase:\n",
    "\n",
    "# Familia\n",
    "\n",
    "El siguiente código en Prolog simula la relación entre una familia:"
   ]
  },
  {
   "cell_type": "code",
   "execution_count": 1,
   "metadata": {
    "collapsed": false
   },
   "outputs": [
    {
     "name": "stdout",
     "output_type": "stream",
     "text": [
      "Rule added to database.\n",
      "Rule added to database.\n",
      "Rule added to database.\n",
      "Rule added to database.\n",
      "Rule added to database.\n",
      "Rule added to database.\n",
      "Rule added to database.\n"
     ]
    }
   ],
   "source": [
    "hermano(\"juan\", \"pedro\").\n",
    "hermano(\"pedro\", \"jose\").\n",
    "hijo(\"juancito\", \"juan\").\n",
    "hijo(\"ana\", \"juan\").\n",
    "hijo(\"natalia\", \"pedro\").\n",
    "hijo(\"andres\", \"jose\").\n",
    "tio(X,Y):- (hermano(Z,X);hermano(X,Z)),hijo(Y,Z)."
   ]
  },
  {
   "cell_type": "markdown",
   "metadata": {},
   "source": [
    "Ahora se verifica el programa:"
   ]
  },
  {
   "cell_type": "code",
   "execution_count": 2,
   "metadata": {
    "collapsed": false
   },
   "outputs": [
    {
     "name": "stdout",
     "output_type": "stream",
     "text": [
      "Use '%continue' for more results.\n"
     ]
    },
    {
     "data": {
      "text/plain": [
       "True"
      ]
     },
     "execution_count": 2,
     "metadata": {},
     "output_type": "execute_result"
    }
   ],
   "source": [
    "hijo(\"juancito\", \"juan\")?"
   ]
  },
  {
   "cell_type": "code",
   "execution_count": 3,
   "metadata": {
    "collapsed": false
   },
   "outputs": [
    {
     "name": "stdout",
     "output_type": "stream",
     "text": [
      "Use '%continue' for more results.\n"
     ]
    },
    {
     "data": {
      "text/plain": [
       "True"
      ]
     },
     "execution_count": 3,
     "metadata": {},
     "output_type": "execute_result"
    }
   ],
   "source": [
    "hermano(\"juan\", \"pedro\")?"
   ]
  },
  {
   "cell_type": "markdown",
   "metadata": {},
   "source": [
    "# Mascotas\n",
    "\n",
    "El siguiente ejemplo diferencia animales de humanos y además define las quiénes son las mascotas de quiénes:"
   ]
  },
  {
   "cell_type": "code",
   "execution_count": 4,
   "metadata": {
    "collapsed": false
   },
   "outputs": [
    {
     "name": "stdout",
     "output_type": "stream",
     "text": [
      "Rule added to database.\n",
      "Rule added to database.\n",
      "Rule added to database.\n",
      "Rule added to database.\n",
      "Rule added to database.\n",
      "Rule added to database.\n",
      "Rule added to database.\n",
      "Rule added to database.\n"
     ]
    }
   ],
   "source": [
    "humano(\"Felipe\").\n",
    "humano(\"Andrea\").\n",
    "humano(\"Juan\").\n",
    "animal(\"Lucas\").\n",
    "animal(\"Mateo\").\n",
    "animal(\"Apolo\").\n",
    "\n",
    "mascota(\"Apolo\",\"Felipe\").\n",
    "mascota(\"Mateo\",\"Juan\")."
   ]
  },
  {
   "cell_type": "code",
   "execution_count": 5,
   "metadata": {
    "collapsed": false
   },
   "outputs": [
    {
     "name": "stdout",
     "output_type": "stream",
     "text": [
      "Use '%continue' for more results.\n"
     ]
    },
    {
     "data": {
      "text/plain": [
       "True"
      ]
     },
     "execution_count": 5,
     "metadata": {},
     "output_type": "execute_result"
    }
   ],
   "source": [
    "humano(\"Felipe\")?"
   ]
  },
  {
   "cell_type": "code",
   "execution_count": 6,
   "metadata": {
    "collapsed": false
   },
   "outputs": [
    {
     "name": "stdout",
     "output_type": "stream",
     "text": [
      "Use '%continue' for more results.\n"
     ]
    },
    {
     "data": {
      "text/plain": [
       "True"
      ]
     },
     "execution_count": 6,
     "metadata": {},
     "output_type": "execute_result"
    }
   ],
   "source": [
    "mascota(\"Mateo\",\"Juan\")?"
   ]
  },
  {
   "cell_type": "markdown",
   "metadata": {},
   "source": [
    "# Gustos\n",
    "\n",
    "Este último ejemplo muestra los gustos de diferentes personas:"
   ]
  },
  {
   "cell_type": "code",
   "execution_count": 7,
   "metadata": {
    "collapsed": false
   },
   "outputs": [
    {
     "name": "stdout",
     "output_type": "stream",
     "text": [
      "Rule added to database.\n",
      "Rule added to database.\n",
      "Rule added to database.\n",
      "Rule added to database.\n",
      "Rule added to database.\n",
      "Rule added to database.\n"
     ]
    }
   ],
   "source": [
    "legusta(pepe,pesca).\n",
    "legusta(maria,bailar).\n",
    "legusta(ana,pesca).\n",
    "legusta(pepe,musica).\n",
    "legusta(maria,musica).\n",
    "legusta(ana,bailar)."
   ]
  },
  {
   "cell_type": "code",
   "execution_count": 8,
   "metadata": {
    "collapsed": false
   },
   "outputs": [
    {
     "name": "stdout",
     "output_type": "stream",
     "text": [
      "Use '%continue' for more results.\n"
     ]
    },
    {
     "data": {
      "text/plain": [
       "True"
      ]
     },
     "execution_count": 8,
     "metadata": {},
     "output_type": "execute_result"
    }
   ],
   "source": [
    "legusta(pepe,musica)?"
   ]
  },
  {
   "cell_type": "code",
   "execution_count": 9,
   "metadata": {
    "collapsed": false
   },
   "outputs": [
    {
     "name": "stdout",
     "output_type": "stream",
     "text": [
      "No more results.\n"
     ]
    }
   ],
   "source": [
    "legusta(pepe,bailar)?"
   ]
  }
 ],
 "metadata": {
  "kernelspec": {
   "display_name": "Calysto Prolog",
   "language": "prolog",
   "name": "calysto_prolog"
  },
  "language_info": {
   "codemirror_mode": {
    "name": "prolog"
   },
   "mimetype": "text/x-prolog",
   "name": "prolog",
   "pygments_lexer": "prolog"
  }
 },
 "nbformat": 4,
 "nbformat_minor": 0
}
