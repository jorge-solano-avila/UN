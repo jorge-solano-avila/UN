{
 "cells": [
  {
   "cell_type": "markdown",
   "metadata": {},
   "source": [
    "# Programación lógico\n",
    "\n",
    "Este notebook fue realizado por:\n",
    "\n",
    "- Cristian Andrés García Prieto.\n",
    "- Andrés Felipe López Becerra.\n",
    "- Miguel Angel Borja Acevedo.\n",
    "- Jorge Andrés Solano Avila.\n",
    "\n",
    "## Paradigmas de programación\n",
    "\n",
    "### Conceptos clave\n",
    "\n",
    "#### Proposición\n",
    "\n",
    "Expresión lingüística del razonamiento que se caracteriza por ser verdadera o falsa."
   ]
  },
  {
   "cell_type": "code",
   "execution_count": null,
   "metadata": {
    "collapsed": true
   },
   "outputs": [],
   "source": []
  }
 ],
 "metadata": {
  "kernelspec": {
   "display_name": "Calysto Prolog",
   "language": "prolog",
   "name": "calysto_prolog"
  },
  "language_info": {
   "codemirror_mode": {
    "name": "prolog"
   },
   "mimetype": "text/x-prolog",
   "name": "prolog",
   "pygments_lexer": "prolog"
  }
 },
 "nbformat": 4,
 "nbformat_minor": 0
}
